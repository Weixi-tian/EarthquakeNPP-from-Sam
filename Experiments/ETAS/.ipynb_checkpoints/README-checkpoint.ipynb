{
 "cells": [
  {
   "cell_type": "markdown",
   "id": "aa6ba1d8-40f7-4ae6-ada3-63ce79200fef",
   "metadata": {},
   "source": [
    "# CSEP Consistency Tests"
   ]
  },
  {
   "cell_type": "code",
   "execution_count": 1,
   "id": "cd280454-d295-4446-8a48-d44c0225e9f8",
   "metadata": {},
   "outputs": [],
   "source": [
    "import csep\n",
    "from csep.core import regions\n",
    "from csep.utils import datasets, time_utils"
   ]
  },
  {
   "cell_type": "code",
   "execution_count": null,
   "id": "ecd3e956-6748-448d-8215-4a49de735e7d",
   "metadata": {},
   "outputs": [],
   "source": [
    "region = regions.california_relm_region()\n",
    "\n",
    "min_mw = dic['Mc']\t\t\t\t\t\t\t\t\t\t\t\t\t\t\t\n",
    "max_mw = 7.65\n",
    "dmw = 0.1\n",
    "magnitudes = regions.magnitude_bins(min_mw, max_mw, dmw)\n",
    "\n",
    "space_magnitude_region = regions.create_space_magnitude_region(region, magnitudes)"
   ]
  },
  {
   "cell_type": "code",
   "execution_count": null,
   "id": "a9abf86d-0914-4325-935d-e7d89faedc01",
   "metadata": {},
   "outputs": [],
   "source": [
    "output_dr = 'output_data_ComCat_25'\n",
    "with open(output_dr+'/parameters_0.json', 'r') as f:\n",
    "        inversion_output = json.load(f)"
   ]
  },
  {
   "cell_type": "code",
   "execution_count": null,
   "id": "3788d925-edd5-417c-9155-a1be785314ad",
   "metadata": {},
   "outputs": [],
   "source": [
    "# define forecast time period\n",
    "day = 7\n",
    "\n",
    "path_to_forecasts = output_dr + '/CSEP_day_'+str(day)+'_.csv'\n",
    "\n",
    "start_time = time_utils.strptime_to_utc_datetime(inversion_output['timewindow_end'])+ dt.timedelta(days=day)\n",
    "end_time = start_time + dt.timedelta(days=1)\n",
    "\n",
    "\n",
    "forecast = csep.load_catalog_forecast(\n",
    "path_to_forecasts,\n",
    "start_time=start_time, end_time=end_time,\n",
    "region=space_magnitude_region,\n",
    "filter_spatial = True,\n",
    "apply_filters=True\n",
    ")\n",
    "\n",
    "forecast.filters = [f'origin_time >= {forecast.start_epoch}', f'origin_time < {forecast.end_epoch}', f'magnitude >= {forecast.min_magnitude}']"
   ]
  },
  {
   "cell_type": "code",
   "execution_count": null,
   "id": "2188439a-c24b-4f1b-9e87-6a3eee629842",
   "metadata": {},
   "outputs": [],
   "source": [
    "_ = forecast.get_expected_rates(verbose=True, )\n",
    "ax = forecast.expected_rates.plot(plot_args={'clim': [-3.5, 0]}, show=True)\n",
    "plt.show()"
   ]
  },
  {
   "cell_type": "code",
   "execution_count": null,
   "id": "49a43eb5-e23d-422a-b3b2-596330a56b5c",
   "metadata": {},
   "outputs": [],
   "source": [
    "############# define observed catalog\n",
    "cat = csep.load_catalog(dic['path_to_cat'])\t\t\n",
    "cat.name = dic['name']\n",
    "\n",
    "cat = cat.filter_spatial(forecast.region)\n",
    "cat = cat.filter(f'magnitude >= {min_mw}')\n",
    "cat = cat.filter(forecast.filters)\t\n",
    "\n",
    "fn_result = work_path+'/tests_CSEP_day_'+str(day)+'_'\t"
   ]
  },
  {
   "cell_type": "code",
   "execution_count": null,
   "id": "e8540331-d06b-4a3c-a93c-cf6b8639e552",
   "metadata": {},
   "outputs": [],
   "source": [
    "number_test_result = csep.core.catalog_evaluations.number_test(forecast, cat)\n",
    "ax = number_test_result.plot(show=True)\n",
    "result_json = json.dumps(number_test_result.to_dict())\n",
    "with open(fn_result + \"number.json\", \"w\") as f:\n",
    "    f.write(result_json)\n",
    "plt.show()"
   ]
  },
  {
   "cell_type": "code",
   "execution_count": null,
   "id": "3aa9cb6d-8ffc-4de7-a092-db298fc316a0",
   "metadata": {},
   "outputs": [],
   "source": [
    "spatial_test_result = csep.core.catalog_evaluations.spatial_test(forecast, cat)\n",
    "ax = spatial_test_result.plot(show=True)\n",
    "with open(fn_result + \"spatial.json\", \"w\") as f:\n",
    "    f.write(result_json)\n",
    "plt.show()"
   ]
  },
  {
   "cell_type": "code",
   "execution_count": null,
   "id": "39a41e03-6253-49c9-bd87-26bab37fa0fc",
   "metadata": {},
   "outputs": [],
   "source": [
    "magnitude_test_result = csep.core.catalog_evaluations.magnitude_test(forecast, cat)\n",
    "ax = magnitude_test_result.plot(show=True)\n",
    "result_json = json.dumps(magnitude_test_result.to_dict())\n",
    "with open(fn_result + \"magnitude.json\", \"w\") as f:\n",
    "    f.write(result_json)\n",
    "plt.show()"
   ]
  }
 ],
 "metadata": {
  "kernelspec": {
   "display_name": "Python 3 (ipykernel)",
   "language": "python",
   "name": "python3"
  },
  "language_info": {
   "codemirror_mode": {
    "name": "ipython",
    "version": 3
   },
   "file_extension": ".py",
   "mimetype": "text/x-python",
   "name": "python",
   "nbconvert_exporter": "python",
   "pygments_lexer": "ipython3",
   "version": "3.10.14"
  }
 },
 "nbformat": 4,
 "nbformat_minor": 5
}
